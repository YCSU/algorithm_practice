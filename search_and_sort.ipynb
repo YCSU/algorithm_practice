{
 "cells": [
  {
   "cell_type": "code",
   "execution_count": null,
   "metadata": {
    "collapsed": true
   },
   "outputs": [],
   "source": [
    "def twoSum(nums, target):\n",
    "    \"\"\"\n",
    "    :type nums: List[int]\n",
    "    :type target: int\n",
    "    :rtype: List[int]\n",
    "    \"\"\"\n",
    "    for i in range(len(nums)):\n",
    "        for j in range(i+1, len(nums)):\n",
    "            if nums[i] + nums[j] == target:\n",
    "                return [i,j]\n",
    "\n",
    "twoSum([1,2,3,4,5,6,7],13)\n",
    "                \n",
    "    "
   ]
  },
  {
   "cell_type": "markdown",
   "metadata": {},
   "source": [
    "# binary search ~ O(log(n))"
   ]
  },
  {
   "cell_type": "code",
   "execution_count": 6,
   "metadata": {},
   "outputs": [
    {
     "name": "stdout",
     "output_type": "stream",
     "text": [
      "-1\n",
      "6\n"
     ]
    }
   ],
   "source": [
    "def binary_search(list_input, value):\n",
    "    low = 0\n",
    "    high = len(list_input)\n",
    "    while low <= high:\n",
    "        mid = (low + high) // 2\n",
    "        if value > list_input[mid]:\n",
    "            low = mid + 1\n",
    "        elif value < list_input[mid]:\n",
    "            high = mid - 1\n",
    "        else:\n",
    "            return mid\n",
    "    return -1\n",
    "\n",
    "test_list = [1,3,9,11,15,19,29]\n",
    "test_val1 = 25\n",
    "test_val2 = 29\n",
    "print(binary_search(test_list, test_val1))\n",
    "print(binary_search(test_list, test_val2))"
   ]
  },
  {
   "cell_type": "markdown",
   "metadata": {},
   "source": [
    "# recursion"
   ]
  },
  {
   "cell_type": "code",
   "execution_count": 20,
   "metadata": {},
   "outputs": [
    {
     "data": {
      "text/plain": [
       "55"
      ]
     },
     "execution_count": 20,
     "metadata": {},
     "output_type": "execute_result"
    }
   ],
   "source": [
    "def Fibonacci(pos):\n",
    "    if pos == 0: \n",
    "        return 0 \n",
    "    if pos == 1:\n",
    "        return 1\n",
    "    pprev = 0\n",
    "    prev = 1\n",
    "    for i in range(1, pos):\n",
    "        current = prev + pprev\n",
    "        pprev = prev\n",
    "        prev = current\n",
    "    return current\n",
    "\n",
    "Fibonacci(10)\n",
    "\n",
    "def Fibonacci_recur(pos):\n",
    "    if pos <= 0:\n",
    "        return 0\n",
    "    if pos == 1:\n",
    "        return 1\n",
    "    return Fibonacci(pos-1) + Fibonacci(pos-2)\n",
    "\n",
    "Fibonacci_recur(10)\n",
    "     "
   ]
  },
  {
   "cell_type": "markdown",
   "metadata": {},
   "source": [
    "# bubble sort ~ O(n^2)"
   ]
  },
  {
   "cell_type": "code",
   "execution_count": 37,
   "metadata": {},
   "outputs": [
    {
     "data": {
      "text/plain": [
       "[1, 2, 3, 4, 5]"
      ]
     },
     "execution_count": 37,
     "metadata": {},
     "output_type": "execute_result"
    }
   ],
   "source": [
    "def bubble_sort(nums):\n",
    "    #num = 0\n",
    "    for i in range(len(nums)):\n",
    "        flag = False\n",
    "        for j in range(len(nums)-i-1):\n",
    "            if nums[j] > nums[j+1]:\n",
    "                nums[j], nums[j+1] = nums[j+1], nums[j]\n",
    "                flag = True\n",
    "                #num += 1\n",
    "        if not flag:\n",
    "            return nums#, num\n",
    "    return nums#, num\n",
    "\n",
    "bubble_sort([5,4,3,2,1])"
   ]
  },
  {
   "cell_type": "markdown",
   "metadata": {},
   "source": [
    "# insertion sort ~ O(n^2)¶"
   ]
  },
  {
   "cell_type": "code",
   "execution_count": 6,
   "metadata": {},
   "outputs": [
    {
     "data": {
      "text/plain": [
       "[1, 2, 3, 5, 14]"
      ]
     },
     "execution_count": 6,
     "metadata": {},
     "output_type": "execute_result"
    }
   ],
   "source": [
    "def insertion_sort(input_array):\n",
    "    for i in range(1, len(input_array)):\n",
    "        for j in range(0, i):\n",
    "            if input_array[j] > input_array[i]:\n",
    "                input_array[i], input_array[j] = input_array[j], input_array[i]\n",
    "    return input_array\n",
    "\n",
    "\n",
    "insertion_sort([5,14,3,2,1])"
   ]
  },
  {
   "cell_type": "markdown",
   "metadata": {},
   "source": [
    "# merge sort ~O(nlog(n))"
   ]
  },
  {
   "cell_type": "code",
   "execution_count": 24,
   "metadata": {},
   "outputs": [
    {
     "name": "stdout",
     "output_type": "stream",
     "text": [
      "[1, 2, 3, 5, 6, 14]\n",
      "[0, 1, 2, 3, 5, 6, 14]\n"
     ]
    }
   ],
   "source": [
    "# top down\n",
    "def merge_sort(input_array):\n",
    "    if len(input_array) == 1:\n",
    "        return input_array\n",
    "    \n",
    "    mid = len(input_array) // 2\n",
    "    \n",
    "    left = merge_sort(input_array[:mid])\n",
    "    right = merge_sort(input_array[mid:])\n",
    "    \n",
    "    return merge(left, right)\n",
    "\n",
    "def merge(left, right):\n",
    "    if type(left) == int:\n",
    "        left = [left]\n",
    "    if type(right) == int:\n",
    "        right = [right]\n",
    "        \n",
    "    res = []\n",
    "    while len(left)*len(right) > 0: \n",
    "        if left[0] < right[0]:\n",
    "            res.append(left.pop(0))\n",
    "        else:\n",
    "            res.append(right.pop(0))\n",
    "        \n",
    "    res.extend(right)\n",
    "    res.extend(left)\n",
    "    \n",
    "    return res\n",
    "\n",
    "# bottom up\n",
    "def merge_sort_bottom_up(input_array):\n",
    "    res = []\n",
    "    while len(input_array) > 1:\n",
    "        for i in range(0, len(input_array), 2):\n",
    "            if i == len(input_array)-1:\n",
    "                res.append(input_array[i])\n",
    "            else:\n",
    "                res.append(merge(input_array[i], input_array[i+1]))\n",
    "        input_array = res\n",
    "        res = []\n",
    "    return input_array[0]\n",
    "\n",
    "print(merge_sort([5,14,3,2,1,6]))\n",
    "print(merge_sort_bottom_up([5,14,3,2,1,6, 0]))"
   ]
  },
  {
   "cell_type": "markdown",
   "metadata": {},
   "source": [
    "# quick sort ~O(nlog(n))"
   ]
  },
  {
   "cell_type": "code",
   "execution_count": 97,
   "metadata": {},
   "outputs": [
    {
     "name": "stdout",
     "output_type": "stream",
     "text": [
      "(0, [0, 5, 4, 50, 1, 3, 1, 7])\n",
      "[0, 4, 5, 7, 20, 50, 100, 200, 200]\n"
     ]
    }
   ],
   "source": [
    "def quick_sort(input_array):\n",
    "    if len(input_array) <= 1:\n",
    "        return input_array\n",
    "    idx, arr = pivot(input_array)\n",
    "    return quick_sort(arr[:idx]) + arr[idx:idx+1] + quick_sort(arr[idx+1:])\n",
    "\n",
    "def pivot(input_array):\n",
    "    idx = len(input_array) - 1\n",
    "    i = 0\n",
    "    while i < idx:\n",
    "        if input_array[idx] < input_array[i]:\n",
    "            if i < idx - 1:\n",
    "                temp = input_array[idx-1]\n",
    "                input_array[idx-1] = input_array[idx]\n",
    "                input_array[idx] = input_array[i]\n",
    "                input_array[i] = temp\n",
    "            else:\n",
    "                input_array[idx-1], input_array[idx] = input_array[idx], input_array[idx-1]\n",
    "            idx -= 1\n",
    "        else:\n",
    "            i += 1\n",
    "        #print(input_array, i, idx)\n",
    "    return idx, input_array\n",
    "\n",
    "print(pivot([7, 5, 4, 50, 1, 3, 1, 0]))\n",
    "print(quick_sort([100, 50, 4, 5, 7,0, 20, 200,200]))"
   ]
  }
 ],
 "metadata": {
  "kernelspec": {
   "display_name": "Python 3",
   "language": "python",
   "name": "python3"
  },
  "language_info": {
   "codemirror_mode": {
    "name": "ipython",
    "version": 3
   },
   "file_extension": ".py",
   "mimetype": "text/x-python",
   "name": "python",
   "nbconvert_exporter": "python",
   "pygments_lexer": "ipython3",
   "version": "3.6.1"
  }
 },
 "nbformat": 4,
 "nbformat_minor": 2
}
