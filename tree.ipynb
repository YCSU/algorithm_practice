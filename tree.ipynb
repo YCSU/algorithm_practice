{
 "cells": [
  {
   "cell_type": "markdown",
   "metadata": {},
   "source": [
    "# DFS"
   ]
  },
  {
   "cell_type": "code",
   "execution_count": 7,
   "metadata": {},
   "outputs": [
    {
     "data": {
      "text/plain": [
       "2"
      ]
     },
     "execution_count": 7,
     "metadata": {},
     "output_type": "execute_result"
    }
   ],
   "source": [
    "def count_islands(mat):\n",
    "    count = 0\n",
    "    for i in range(len(mat)):\n",
    "        for j in range(len(mat[0])):\n",
    "            if mat[i][j] == 1:\n",
    "                mat[i][j] = 0\n",
    "                neighbor_list = has_neighbor(mat, i, j)\n",
    "                while len(neighbor_list) > 0:\n",
    "                    r, c = neighbor_list.pop()\n",
    "                    mat[r][c] = 0\n",
    "                    neighbor_list.extend(has_neighbor(mat, r, c))\n",
    "                count += 1\n",
    "    return count\n",
    "\n",
    "def has_neighbor(mat, i, j):\n",
    "    res = []\n",
    "    moves = [[0,1], [0, -1], [1, 0], [-1, 0]]\n",
    "    for r, c in moves:\n",
    "        if i+r >= 0 and i+r < len(mat) and j+c >= 0 and j+c < len(mat[0]) and mat[i+r][j+c] == 1:\n",
    "            res.append([i+r, j+c])\n",
    "    return res\n",
    "\n",
    "a = [[0,0,0,1],\n",
    "     [0,1,0,0],\n",
    "     [0,1,1,1]]\n",
    "\n",
    "count_islands(a)"
   ]
  },
  {
   "cell_type": "markdown",
   "metadata": {},
   "source": [
    "# binary tree"
   ]
  },
  {
   "cell_type": "code",
   "execution_count": 25,
   "metadata": {},
   "outputs": [
    {
     "name": "stdout",
     "output_type": "stream",
     "text": [
      "True\n",
      "False\n",
      "1\n",
      "2\n",
      "4\n",
      "5\n",
      "3\n",
      "\n"
     ]
    }
   ],
   "source": [
    "class Node():\n",
    "    def __init__(self, value):\n",
    "        self.value = value\n",
    "        self.left = None\n",
    "        self.right = None\n",
    "        \n",
    "class BinaryTree(object):\n",
    "    def __init__(self, root):\n",
    "        self.root = Node(root)\n",
    "\n",
    "    def search(self, find_val):\n",
    "        \"\"\"Return True if the value\n",
    "        is in the tree, return\n",
    "        False otherwise.\"\"\"\n",
    "        return self.preorder_search(self.root, find_val)\n",
    "\n",
    "    def print_tree(self):\n",
    "        \"\"\"Print out all tree nodes\n",
    "        as they are visited in\n",
    "        a pre-order traversal.\"\"\"\n",
    "        self.preorder_print(self.root)\n",
    "        return \"\"\n",
    "\n",
    "    def preorder_search(self, start, find_val):\n",
    "        \"\"\"Helper method - use this to create a \n",
    "        recursive search solution.\"\"\"\n",
    "        bool_right, bool_left = False, False\n",
    "        if start.left != None:\n",
    "            if find_val == start.left.value:\n",
    "                return True\n",
    "            bool_left = self.preorder_search(start.left, find_val)\n",
    "        if start.right != None:\n",
    "            if find_val == start.right.value:\n",
    "                return True\n",
    "            bool_right = self.preorder_search(start.right, find_val)\n",
    "        \n",
    "        return bool_left or bool_right\n",
    "    \n",
    "\n",
    "    def preorder_print(self, start, traversal=True):\n",
    "        \"\"\"Helper method - use this to create a \n",
    "        recursive print solution.\"\"\"\n",
    "        print(start.value)\n",
    "        if start.left:\n",
    "            self.preorder_print(start.left)\n",
    "        if start.right:\n",
    "            self.preorder_print(start.right)\n",
    "        return traversal\n",
    "\n",
    "\n",
    "# Set up tree\n",
    "tree = BinaryTree(1)\n",
    "tree.root.left = Node(2)\n",
    "tree.root.right = Node(3)\n",
    "tree.root.left.left = Node(4)\n",
    "tree.root.left.right = Node(5)\n",
    "\n",
    "# Test search\n",
    "# Should be True\n",
    "print(tree.search(4))\n",
    "# Should be False\n",
    "print(tree.search(6))\n",
    "\n",
    "# Test print_tree\n",
    "# Should be 1-2-4-5-3\n",
    "print(tree.print_tree())"
   ]
  },
  {
   "cell_type": "markdown",
   "metadata": {},
   "source": [
    "# binary search tree"
   ]
  },
  {
   "cell_type": "code",
   "execution_count": 4,
   "metadata": {},
   "outputs": [
    {
     "name": "stdout",
     "output_type": "stream",
     "text": [
      "True\n",
      "False\n"
     ]
    }
   ],
   "source": [
    "class Node():\n",
    "    def __init__(self, value):\n",
    "        self.value = value\n",
    "        self.left = None\n",
    "        self.right = None\n",
    "\n",
    "class BST(object):\n",
    "    def __init__(self, root):\n",
    "        self.root = Node(root)\n",
    "\n",
    "    def insert(self, new_val):\n",
    "        current = self.root\n",
    "        while current:\n",
    "            if current.value <= new_val:\n",
    "                if current.left == None:\n",
    "                    current.left = Node(new_val)\n",
    "                    break\n",
    "                else:\n",
    "                    current = current.left\n",
    "            if current.value > new_val:\n",
    "                if current.right == None:\n",
    "                    current.right = Node(new_val)\n",
    "                    break\n",
    "                else:\n",
    "                    current = current.right \n",
    "\n",
    "    def search(self, find_val):\n",
    "        current = self.root\n",
    "        while current:\n",
    "            if current.value == find_val:\n",
    "                return True\n",
    "            elif current.value < find_val and current.left:\n",
    "                current = current.left\n",
    "            elif current.value > find_val and current.right:\n",
    "                current = current.right\n",
    "            else:\n",
    "                current = None\n",
    "        return False\n",
    "    \n",
    "# Set up tree\n",
    "tree = BST(4)\n",
    "\n",
    "# Insert elements\n",
    "tree.insert(2)\n",
    "tree.insert(1)\n",
    "tree.insert(3)\n",
    "tree.insert(5)\n",
    "\n",
    "# Check search\n",
    "# Should be True\n",
    "print(tree.search(4))\n",
    "# Should be False\n",
    "print(tree.search(6))"
   ]
  }
 ],
 "metadata": {
  "kernelspec": {
   "display_name": "Python 3",
   "language": "python",
   "name": "python3"
  },
  "language_info": {
   "codemirror_mode": {
    "name": "ipython",
    "version": 3
   },
   "file_extension": ".py",
   "mimetype": "text/x-python",
   "name": "python",
   "nbconvert_exporter": "python",
   "pygments_lexer": "ipython3",
   "version": "3.6.1"
  }
 },
 "nbformat": 4,
 "nbformat_minor": 2
}
